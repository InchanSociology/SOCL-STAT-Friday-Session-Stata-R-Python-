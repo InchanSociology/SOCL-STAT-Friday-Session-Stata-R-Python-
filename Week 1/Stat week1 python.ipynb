{
 "cells": [
  {
   "cell_type": "code",
   "execution_count": null,
   "id": "ff3f7a18",
   "metadata": {},
   "outputs": [
    {
     "name": "stdout",
     "output_type": "stream",
     "text": [
      "   year  clfpr  cunr\n",
      "0  1980   63.8   7.1\n",
      "1  1981   63.9   7.6\n",
      "2  1982   64.0   9.7\n",
      "3  1983   64.0   9.6\n",
      "4  1984   64.4   7.5\n"
     ]
    },
    {
     "data": {
      "text/html": [
       "<div>\n",
       "<style scoped>\n",
       "    .dataframe tbody tr th:only-of-type {\n",
       "        vertical-align: middle;\n",
       "    }\n",
       "\n",
       "    .dataframe tbody tr th {\n",
       "        vertical-align: top;\n",
       "    }\n",
       "\n",
       "    .dataframe thead th {\n",
       "        text-align: right;\n",
       "    }\n",
       "</style>\n",
       "<table border=\"1\" class=\"dataframe\">\n",
       "  <thead>\n",
       "    <tr style=\"text-align: right;\">\n",
       "      <th></th>\n",
       "      <th>year</th>\n",
       "      <th>clfpr</th>\n",
       "      <th>cunr</th>\n",
       "    </tr>\n",
       "  </thead>\n",
       "  <tbody>\n",
       "    <tr>\n",
       "      <th>count</th>\n",
       "      <td>28.000000</td>\n",
       "      <td>28.000000</td>\n",
       "      <td>28.000000</td>\n",
       "    </tr>\n",
       "    <tr>\n",
       "      <th>mean</th>\n",
       "      <td>1993.500000</td>\n",
       "      <td>65.921429</td>\n",
       "      <td>6.096429</td>\n",
       "    </tr>\n",
       "    <tr>\n",
       "      <th>std</th>\n",
       "      <td>8.225975</td>\n",
       "      <td>1.050699</td>\n",
       "      <td>1.451814</td>\n",
       "    </tr>\n",
       "    <tr>\n",
       "      <th>min</th>\n",
       "      <td>1980.000000</td>\n",
       "      <td>63.800000</td>\n",
       "      <td>4.000000</td>\n",
       "    </tr>\n",
       "    <tr>\n",
       "      <th>25%</th>\n",
       "      <td>1986.750000</td>\n",
       "      <td>65.525000</td>\n",
       "      <td>5.050000</td>\n",
       "    </tr>\n",
       "    <tr>\n",
       "      <th>50%</th>\n",
       "      <td>1993.500000</td>\n",
       "      <td>66.200000</td>\n",
       "      <td>5.700000</td>\n",
       "    </tr>\n",
       "    <tr>\n",
       "      <th>75%</th>\n",
       "      <td>2000.250000</td>\n",
       "      <td>66.600000</td>\n",
       "      <td>7.025000</td>\n",
       "    </tr>\n",
       "    <tr>\n",
       "      <th>max</th>\n",
       "      <td>2007.000000</td>\n",
       "      <td>67.100000</td>\n",
       "      <td>9.700000</td>\n",
       "    </tr>\n",
       "  </tbody>\n",
       "</table>\n",
       "</div>"
      ],
      "text/plain": [
       "              year      clfpr       cunr\n",
       "count    28.000000  28.000000  28.000000\n",
       "mean   1993.500000  65.921429   6.096429\n",
       "std       8.225975   1.050699   1.451814\n",
       "min    1980.000000  63.800000   4.000000\n",
       "25%    1986.750000  65.525000   5.050000\n",
       "50%    1993.500000  66.200000   5.700000\n",
       "75%    2000.250000  66.600000   7.025000\n",
       "max    2007.000000  67.100000   9.700000"
      ]
     },
     "execution_count": 1,
     "metadata": {},
     "output_type": "execute_result"
    },
    {
     "data": {
      "image/png": "[encoded data removed]",
      "text/plain": [
       "<Figure size 640x480 with 1 Axes>"
      ]
     },
     "metadata": {},
     "output_type": "display_data"
    }
   ],
   "source": [
    "# You need to install the pandas package before running 'import pandas as pd'.\n",
    "# To install pandas, run: pip install pandas\n",
    "\n",
    "import pandas as pd\n",
    "\n",
    "# Load the Excel file\n",
    "df = pd.read_excel(\"C:/Users/InchanHwang/Desktop/Employment.xls\")\n",
    "\n",
    "# Display the first few rows of the data\n",
    "print(df.head())\n",
    "\n",
    "# Summary statistics for the entire DataFrame\n",
    "df.describe()\n",
    "\n",
    "# Optional:\n",
    "# df['year'].value_counts()  # Frequency count of each year\n",
    "# df['year'].hist()          # Histogram of the 'year' column\n"
   ]
  }
 ],
 "metadata": {
  "kernelspec": {
   "display_name": "Python 3",
   "language": "python",
   "name": "python3"
  },
  "language_info": {
   "codemirror_mode": {
    "name": "ipython",
    "version": 3
   },
   "file_extension": ".py",
   "mimetype": "text/x-python",
   "name": "python",
   "nbconvert_exporter": "python",
   "pygments_lexer": "ipython3",
   "version": "3.13.0"
  }
 },
 "nbformat": 4,
 "nbformat_minor": 5
}
